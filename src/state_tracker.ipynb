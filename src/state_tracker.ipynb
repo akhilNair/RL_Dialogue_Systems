{
 "cells": [
  {
   "cell_type": "code",
   "execution_count": 1,
   "metadata": {},
   "outputs": [],
   "source": [
    "import pandas as pd\n",
    "import numpy as np\n",
    "import pickle as pkl\n",
    "\n",
    "movie_db = pd.read_pickle(\"C:/Users/soura/RL_Dialogue_Systems/data/movie_db.pkl\")\n",
    "movie_dict = pd.read_pickle('data/movie_dict.pkl')\n",
    "movie_user_goals = pd.read_pickle('data/movie_user_goals.pkl')"
   ]
  },
  {
   "cell_type": "code",
   "execution_count": 2,
   "metadata": {},
   "outputs": [],
   "source": [
    "  \n",
    "from db_query import DBQuery\n",
    "import numpy as np\n",
    "from utils import convert_list_to_dict\n",
    "from dialogue_config import all_intents, all_slots, usersim_default_key\n",
    "import copy\n",
    "import pickle, argparse, json, math"
   ]
  },
  {
   "cell_type": "markdown",
   "metadata": {},
   "source": [
    "### Testing DB Queries"
   ]
  },
  {
   "cell_type": "code",
   "execution_count": 3,
   "metadata": {},
   "outputs": [],
   "source": [
    "#Load file path constants\n",
    "CONSTANTS_FILE_PATH = 'constants.json'\n",
    "constants_file = CONSTANTS_FILE_PATH\n",
    "with open(constants_file) as f:\n",
    "        constants = json.load(f)\n",
    "CONSTANTS_FILE_PATH = 'constants.json'\n",
    "file_path_dict = constants['db_file_paths']\n",
    "DATABASE_FILE_PATH = file_path_dict['database']\n",
    "DICT_FILE_PATH = file_path_dict['dict']\n",
    "USER_GOALS_FILE_PATH = file_path_dict['user_goals']"
   ]
  },
  {
   "cell_type": "code",
   "execution_count": 4,
   "metadata": {},
   "outputs": [],
   "source": [
    "database = pickle.load(open(DATABASE_FILE_PATH, 'rb'), encoding='latin1')"
   ]
  },
  {
   "cell_type": "code",
   "execution_count": 5,
   "metadata": {},
   "outputs": [],
   "source": [
    "db_helper = DBQuery(database)"
   ]
  },
  {
   "cell_type": "markdown",
   "metadata": {},
   "source": [
    "Returns the value of the number of occurrence of the inform slots given a key, this will be further used by the “Fill information slot” method to retrieve the maximum count of the keys retrieved from DB."
   ]
  },
  {
   "cell_type": "code",
   "execution_count": 6,
   "metadata": {},
   "outputs": [],
   "source": [
    "current_informs = {'moviename':'the witch','city':'seattle'}"
   ]
  },
  {
   "cell_type": "code",
   "execution_count": 7,
   "metadata": {},
   "outputs": [],
   "source": [
    "db_results_dict = db_helper.get_db_results_for_slots(current_informs)"
   ]
  },
  {
   "cell_type": "code",
   "execution_count": 8,
   "metadata": {},
   "outputs": [
    {
     "data": {
      "text/plain": [
       "{'moviename': 41, 'city': 303, 'matching_all_constraints': 6}"
      ]
     },
     "execution_count": 8,
     "metadata": {},
     "output_type": "execute_result"
    }
   ],
   "source": [
    "db_results_dict"
   ]
  },
  {
   "cell_type": "markdown",
   "metadata": {},
   "source": [
    "This function is meant to fill in the required information from the database. It searches through the database to fill the inform slots PLACEHOLDER with values that work given the constraints of the current episode. This function also makes use of 2 other methods one to retrieve DB results for constraints and another to get the maximum number of the filled-in information ii.e. slot values with the highest count of available results which are described in the previous sections."
   ]
  },
  {
   "cell_type": "code",
   "execution_count": 9,
   "metadata": {},
   "outputs": [],
   "source": [
    "agent_inform = {'theater':''}\n",
    "current_informs = {'moviename':'the witch','city':'seattle'}"
   ]
  },
  {
   "cell_type": "code",
   "execution_count": 10,
   "metadata": {},
   "outputs": [],
   "source": [
    "inform_slots = db_helper.fill_inform_slot(agent_inform, current_informs)"
   ]
  },
  {
   "cell_type": "code",
   "execution_count": 11,
   "metadata": {},
   "outputs": [
    {
     "data": {
      "text/plain": [
       "{'theater': 'regal meridian 16'}"
      ]
     },
     "execution_count": 11,
     "metadata": {},
     "output_type": "execute_result"
    }
   ],
   "source": [
    "inform_slots"
   ]
  },
  {
   "cell_type": "markdown",
   "metadata": {},
   "source": [
    "This function takes in input all the constraints information in a conversation and matches with the database if all the constraints are satisfied, and their values match then the item  is added to the returned dictionary"
   ]
  },
  {
   "cell_type": "code",
   "execution_count": 12,
   "metadata": {},
   "outputs": [],
   "source": [
    "current_informs = {'moviename':'the witch','city':'seattle'}"
   ]
  },
  {
   "cell_type": "code",
   "execution_count": 13,
   "metadata": {},
   "outputs": [],
   "source": [
    "db_results = db_helper.get_db_results(current_informs)"
   ]
  },
  {
   "cell_type": "code",
   "execution_count": 14,
   "metadata": {},
   "outputs": [
    {
     "data": {
      "text/plain": [
       "{49: {'date': 'tomorrow',\n",
       "  'city': 'seattle',\n",
       "  'theater': 'regal meridian 16',\n",
       "  'moviename': 'the witch',\n",
       "  'starttime': '9:30 pm'},\n",
       " 66: {'date': 'tomorrow',\n",
       "  'city': 'seattle',\n",
       "  'theater': 'regal meridian 16',\n",
       "  'moviename': 'the witch',\n",
       "  'starttime': '9:30 pm'},\n",
       " 147: {'date': 'tomorrow',\n",
       "  'city': 'seattle',\n",
       "  'theater': 'regal meridian 16',\n",
       "  'moviename': 'the witch',\n",
       "  'starttime': '9:30 pm'},\n",
       " 810: {'date': 'tomorrow',\n",
       "  'city': 'seattle',\n",
       "  'theater': 'regal meridian 16',\n",
       "  'moviename': 'the witch',\n",
       "  'starttime': '9:30 pm'},\n",
       " 850: {'date': 'tomorrow',\n",
       "  'city': 'seattle',\n",
       "  'theater': 'regal meridian 16',\n",
       "  'moviename': 'the witch',\n",
       "  'starttime': '9:30 pm'},\n",
       " 851: {'date': 'tomorrow',\n",
       "  'city': 'seattle',\n",
       "  'theater': 'regal meridian 16',\n",
       "  'moviename': 'the witch',\n",
       "  'starttime': '9:30 pm'}}"
      ]
     },
     "execution_count": 14,
     "metadata": {},
     "output_type": "execute_result"
    }
   ],
   "source": [
    "db_results"
   ]
  },
  {
   "cell_type": "code",
   "execution_count": null,
   "metadata": {},
   "outputs": [],
   "source": []
  },
  {
   "cell_type": "markdown",
   "metadata": {},
   "source": [
    "### Testing State Tracker"
   ]
  },
  {
   "cell_type": "code",
   "execution_count": 15,
   "metadata": {},
   "outputs": [],
   "source": [
    "class StateTracker:\n",
    "    \"\"\"Tracks the state of the episode/conversation and prepares the state representation for the agent.\"\"\"\n",
    "\n",
    "    def __init__(self, database, constants):\n",
    "        \"\"\"\n",
    "        The constructor of StateTracker.\n",
    "        The constructor of StateTracker which creates a DB query object, creates necessary state rep. dicts, etc. and\n",
    "        calls reset.\n",
    "        Parameters:\n",
    "            database (dict): The database with format dict(long: dict)\n",
    "            constants (dict): Loaded constants in dict\n",
    "        \"\"\"\n",
    "\n",
    "        self.db_helper = DBQuery(database)\n",
    "        self.match_key = usersim_default_key\n",
    "        self.intents_dict = convert_list_to_dict(all_intents)\n",
    "        self.num_intents = len(all_intents)\n",
    "        self.slots_dict = convert_list_to_dict(all_slots)\n",
    "        self.num_slots = len(all_slots)\n",
    "        self.max_round_num = constants['run']['max_round_num']\n",
    "        self.none_state = np.zeros(self.get_state_size())\n",
    "        self.reset()"
   ]
  },
  {
   "cell_type": "code",
   "execution_count": 16,
   "metadata": {},
   "outputs": [],
   "source": [
    "db_helper = DBQuery(database) #loading the database\n"
   ]
  },
  {
   "cell_type": "code",
   "execution_count": 17,
   "metadata": {},
   "outputs": [],
   "source": [
    "usersim_default_key = 'ticket'\n",
    "all_intents = ['inform', 'request', 'done', 'match_found', 'thanks', 'reject']\n",
    "all_slots = ['actor', 'actress', 'city', 'critic_rating', 'date', 'description', 'distanceconstraints',\n",
    "             'genre', 'greeting', 'implicit_value', 'movie_series', 'moviename', 'mpaa_rating',\n",
    "             'numberofpeople', 'numberofkids', 'other', 'price', 'seating', 'starttime', 'state',\n",
    "             'theater', 'theater_chain', 'video_format', 'zip', 'result', usersim_default_key, 'mc_list']\n",
    "\n",
    "match_key = usersim_default_key\n",
    "num_intents = len(all_intents)\n",
    "slots_dict = convert_list_to_dict(all_slots)\n",
    "num_slots = len(all_slots)\n",
    "max_round_num = constants['run']['max_round_num']"
   ]
  },
  {
   "cell_type": "markdown",
   "metadata": {},
   "source": [
    "#### Getting size of the state function"
   ]
  },
  {
   "cell_type": "code",
   "execution_count": 18,
   "metadata": {},
   "outputs": [],
   "source": [
    "def get_state_size(num_intents, num_slots, max_round_num):\n",
    "        \"\"\"Returns the state size of the state representation used by the agent.\"\"\"\n",
    "\n",
    "        return 2 * num_intents + 7 * num_slots + 3 + max_round_num"
   ]
  },
  {
   "cell_type": "code",
   "execution_count": 19,
   "metadata": {},
   "outputs": [
    {
     "data": {
      "text/plain": [
       "224"
      ]
     },
     "execution_count": 19,
     "metadata": {},
     "output_type": "execute_result"
    }
   ],
   "source": [
    "state_size = get_state_size(num_intents, num_slots, max_round_num)\n",
    "state_size"
   ]
  },
  {
   "cell_type": "code",
   "execution_count": 20,
   "metadata": {},
   "outputs": [],
   "source": [
    "def get_state_size(self):\n",
    "    \"\"\"Returns the state size of the state representation used by the agent.\"\"\"\n",
    "\n",
    "    return 2 * self.num_intents + 7 * self.num_slots + 3 + self.max_round_num"
   ]
  },
  {
   "cell_type": "markdown",
   "metadata": {},
   "source": [
    "#### Update Agent State"
   ]
  },
  {
   "cell_type": "code",
   "execution_count": 21,
   "metadata": {},
   "outputs": [],
   "source": [
    "history = []\n",
    "round_num=0"
   ]
  },
  {
   "cell_type": "code",
   "execution_count": 51,
   "metadata": {},
   "outputs": [],
   "source": [
    "agent_action = {'intent': 'match_found', 'inform_slots': {},\n",
    "                                 'request_slots': {'theatre':'regal meridian 16'}}"
   ]
  },
  {
   "cell_type": "markdown",
   "metadata": {},
   "source": [
    "#### Update State Agent\n",
    "adds agents action to the agent action history and adds action parameters with query information\n",
    "if the intent for an episode in a conversation is \"inform\" the it calls function \"fillinforslots\" to fill the information required by \"agent_informs\" <br>\n",
    "if the intent is \"match_found\" then there should not be any \"inform_slots\" for information request and the \"request_slot\" should have a value that reterieves the results from database with respect to the movie ticket results"
   ]
  },
  {
   "cell_type": "code",
   "execution_count": 52,
   "metadata": {},
   "outputs": [],
   "source": [
    "def update_state_agent(agent_action):\n",
    "        \"\"\"\n",
    "        Updates the dialogue history with the agent's action and augments the agent's action.\n",
    "        Takes an agent action and updates the history. Also augments the agent_action param with query information and\n",
    "        any other necessary information.\n",
    "        Parameters:\n",
    "            agent_action (dict): The agent action of format dict('intent': string, 'inform_slots': dict,\n",
    "                                 'request_slots': dict) and changed to dict('intent': '', 'inform_slots': {},\n",
    "                                 'request_slots': {}, 'round': int, 'speaker': 'Agent')\n",
    "        \"\"\"\n",
    "\n",
    "        if agent_action['intent'] == 'inform':\n",
    "            assert agent_action['inform_slots']\n",
    "            inform_slots = db_helper.fill_inform_slot(agent_action['inform_slots'], current_informs)\n",
    "            agent_action['inform_slots'] = inform_slots\n",
    "            assert agent_action['inform_slots']\n",
    "            key, value = list(agent_action['inform_slots'].items())[0]  # Only one\n",
    "            assert key != 'match_found'\n",
    "            assert value != 'PLACEHOLDER', 'KEY: {}'.format(key)\n",
    "            current_informs[key] = value\n",
    "        # If intent is match_found then fill the action informs with the matches informs (if there is a match)\n",
    "        elif agent_action['intent'] == 'match_found':\n",
    "            assert not agent_action['inform_slots'], 'Cannot inform and have intent of match found!'\n",
    "            db_results = db_helper.get_db_results(current_informs)\n",
    "            if db_results:\n",
    "                # Arbitrarily pick the first value of the dict\n",
    "                key, value = list(db_results.items())[0]\n",
    "                agent_action['inform_slots'] = copy.deepcopy(value)\n",
    "                agent_action['inform_slots'][match_key] = str(key)\n",
    "            else:\n",
    "                agent_action['inform_slots'][match_key] = 'no match available'\n",
    "                current_informs[match_key] = agent_action['inform_slots'][match_key]\n",
    "        agent_action.update({'round': round_num, 'speaker': 'Agent'})\n",
    "        history.append(agent_action)"
   ]
  },
  {
   "cell_type": "code",
   "execution_count": 53,
   "metadata": {},
   "outputs": [],
   "source": [
    "updated_state_agent = update_state_agent(agent_action)"
   ]
  },
  {
   "cell_type": "code",
   "execution_count": 54,
   "metadata": {},
   "outputs": [
    {
     "data": {
      "text/plain": [
       "[{'intent': 'inform',\n",
       "  'inform_slots': {'moviename': 'zootopia'},\n",
       "  'request_slots': {'theatre': ''},\n",
       "  'round': 0,\n",
       "  'speaker': 'Agent'},\n",
       " {'intent': 'inform',\n",
       "  'inform_slots': {'moviename': 'zootopia'},\n",
       "  'request_slots': {'theatre': ''},\n",
       "  'round': 0,\n",
       "  'speaker': 'Agent'},\n",
       " {'intent': 'match_found',\n",
       "  'inform_slots': {'city': 'seattle',\n",
       "   'theater': 'regal meridian 16',\n",
       "   'zip': '98101',\n",
       "   'numberofkids': 'two',\n",
       "   'theater_chain': 'regal meridian',\n",
       "   'state': 'wa',\n",
       "   'other': 'movie assistant number',\n",
       "   'starttime': '6:30pm',\n",
       "   'date': 'tonight',\n",
       "   'moviename': 'zootopia',\n",
       "   'ticket': '10'},\n",
       "  'request_slots': {'theatre': 'regal meridian 16'},\n",
       "  'round': 0,\n",
       "  'speaker': 'Agent'}]"
      ]
     },
     "execution_count": 54,
     "metadata": {},
     "output_type": "execute_result"
    }
   ],
   "source": [
    "history"
   ]
  },
  {
   "cell_type": "markdown",
   "metadata": {},
   "source": [
    "#### Update State User\n",
    "This function appends user information passed into the history"
   ]
  },
  {
   "cell_type": "code",
   "execution_count": 65,
   "metadata": {},
   "outputs": [],
   "source": [
    "user_action = {'intent': 'request', 'inform_slots': {'moviename':'the witch','city':'seattle'},\n",
    "                                 'request_slots': {'theatre':''}}"
   ]
  },
  {
   "cell_type": "code",
   "execution_count": 75,
   "metadata": {},
   "outputs": [],
   "source": [
    "history =[]\n"
   ]
  },
  {
   "cell_type": "code",
   "execution_count": 86,
   "metadata": {},
   "outputs": [],
   "source": [
    "def update_state_user(user_action):\n",
    "        \"\"\"\n",
    "        Updates the dialogue history with the user's action and augments the user's action.\n",
    "        Takes a user action and updates the history. Also augments the user_action param with necessary information.\n",
    "        Parameters:\n",
    "            user_action (dict): The user action of format dict('intent': string, 'inform_slots': dict,\n",
    "                                 'request_slots': dict) and changed to dict('intent': '', 'inform_slots': {},\n",
    "                                 'request_slots': {}, 'round': int, 'speaker': 'User')\n",
    "        \"\"\"\n",
    "        for key, value in user_action['inform_slots'].items():\n",
    "                current_informs[key] = value\n",
    "        user_action.update({'round': round_num, 'speaker': 'User'})\n",
    "        history.append(user_action)"
   ]
  },
  {
   "cell_type": "code",
   "execution_count": 87,
   "metadata": {},
   "outputs": [],
   "source": [
    "updated_state_user = update_state_user(user_action)"
   ]
  },
  {
   "cell_type": "code",
   "execution_count": 88,
   "metadata": {},
   "outputs": [
    {
     "data": {
      "text/plain": [
       "[{'intent': 'request',\n",
       "  'inform_slots': {'moviename': 'the witch', 'city': 'seattle'},\n",
       "  'request_slots': {'theatre': ''},\n",
       "  'round': 0,\n",
       "  'speaker': 'User'},\n",
       " {'intent': 'request',\n",
       "  'inform_slots': {'moviename': 'the witch', 'city': 'seattle'},\n",
       "  'request_slots': {'theatre': ''},\n",
       "  'round': 0,\n",
       "  'speaker': 'User'},\n",
       " {'intent': 'request',\n",
       "  'inform_slots': {'moviename': 'the witch', 'city': 'seattle'},\n",
       "  'request_slots': {'theatre': ''},\n",
       "  'round': 0,\n",
       "  'speaker': 'User'}]"
      ]
     },
     "execution_count": 88,
     "metadata": {},
     "output_type": "execute_result"
    }
   ],
   "source": [
    "history"
   ]
  },
  {
   "cell_type": "markdown",
   "metadata": {},
   "source": [
    "#### Get State\n",
    "\n",
    "Returns current state of conversation for agent to be consumed into the Q network in the form -> user_act_rep, user_inform_slots_rep, user_request_slots_rep, agent_act_rep, agent_inform_slots_rep,\n",
    "             agent_request_slots_rep, current_slots_rep, turn_rep, turn_onehot_rep, kb_binary_rep,\n",
    "             kb_count_rep converted into numpy array of shape (state size,) "
   ]
  },
  {
   "cell_type": "code",
   "execution_count": 141,
   "metadata": {},
   "outputs": [],
   "source": [
    "history = [{'intent': 'inform',\n",
    "  'inform_slots': {'moviename': 'the witch'},\n",
    "  'request_slots': {'genre':'thriller'},\n",
    "  'round': 0,\n",
    "  'speaker': 'Agent'},{'intent': 'request',\n",
    "  'inform_slots': {'moviename': 'the witch', 'city': 'seattle'},\n",
    "  'request_slots': {'genre':''},\n",
    "  'round': 0,\n",
    "  'speaker': 'User'}]"
   ]
  },
  {
   "cell_type": "code",
   "execution_count": 142,
   "metadata": {},
   "outputs": [],
   "source": [
    "db_helper = DBQuery(database)\n",
    "match_key = usersim_default_key\n",
    "intents_dict = convert_list_to_dict(all_intents)\n",
    "num_intents = len(all_intents)\n",
    "slots_dict = convert_list_to_dict(all_slots)\n",
    "num_slots = len(all_slots)\n",
    "max_round_num = constants['run']['max_round_num']\n"
   ]
  },
  {
   "cell_type": "code",
   "execution_count": 143,
   "metadata": {},
   "outputs": [],
   "source": [
    "def get_state(done=False):\n",
    "        \"\"\"\n",
    "        Returns the state representation as a numpy array which is fed into the agent's neural network.\n",
    "        The state representation contains useful information for the agent about the current state of the conversation.\n",
    "        Processes by the agent to be fed into the neural network. Ripe for experimentation and optimization.\n",
    "        Parameters:\n",
    "            done (bool): Indicates whether this is the last dialogue in the episode/conversation. Default: False\n",
    "        Returns:\n",
    "            numpy.array: A numpy array of shape (state size,)\n",
    "        \"\"\"\n",
    "\n",
    "        # If done then fill state with zeros\n",
    "#         if done:\n",
    "#             return self.none_state\n",
    "\n",
    "        user_action = history[-1]\n",
    "        db_results_dict = db_helper.get_db_results_for_slots(current_informs)\n",
    "        last_agent_action = history[-2] if len(history) > 1 else None\n",
    "\n",
    "        # Create one-hot of intents to represent the current user action\n",
    "        user_act_rep = np.zeros((num_intents,))\n",
    "        user_act_rep[intents_dict[user_action['intent']]] = 1.0\n",
    "\n",
    "        # Create bag of inform slots representation to represent the current user action\n",
    "        user_inform_slots_rep = np.zeros((num_slots,))\n",
    "        for key in user_action['inform_slots'].keys():\n",
    "            user_inform_slots_rep[slots_dict[key]] = 1.0\n",
    "\n",
    "        # Create bag of request slots representation to represent the current user action\n",
    "        user_request_slots_rep = np.zeros((num_slots,))\n",
    "        print(\"keys user requests : \", user_action)\n",
    "        for key in user_action['request_slots'].keys():\n",
    "            user_request_slots_rep[slots_dict[key]] = 1.0\n",
    "\n",
    "        # Create bag of filled_in slots based on the current_slots\n",
    "        current_slots_rep = np.zeros((num_slots,))\n",
    "        for key in current_informs:\n",
    "            current_slots_rep[slots_dict[key]] = 1.0\n",
    "\n",
    "        # Encode last agent intent\n",
    "        agent_act_rep = np.zeros((num_intents,))\n",
    "        if last_agent_action:\n",
    "            agent_act_rep[intents_dict[last_agent_action['intent']]] = 1.0\n",
    "\n",
    "        # Encode last agent inform slots\n",
    "        agent_inform_slots_rep = np.zeros((num_slots,))\n",
    "        if last_agent_action:\n",
    "            for key in last_agent_action['inform_slots'].keys():\n",
    "                agent_inform_slots_rep[slots_dict[key]] = 1.0\n",
    "\n",
    "        # Encode last agent request slots\n",
    "        agent_request_slots_rep = np.zeros((num_slots,))\n",
    "        if last_agent_action:\n",
    "            for key in last_agent_action['request_slots'].keys():\n",
    "                agent_request_slots_rep[slots_dict[key]] = 1.0\n",
    "\n",
    "        # Value representation of the round num\n",
    "        turn_rep = np.zeros((1,)) + round_num / 5.\n",
    "\n",
    "        # One-hot representation of the round num\n",
    "        turn_onehot_rep = np.zeros((max_round_num,))\n",
    "        turn_onehot_rep[round_num - 1] = 1.0\n",
    "\n",
    "        # Representation of DB query results (scaled counts)\n",
    "        kb_count_rep = np.zeros((num_slots + 1,)) + db_results_dict['matching_all_constraints'] / 100.\n",
    "        for key in db_results_dict.keys():\n",
    "            if key in slots_dict:\n",
    "                kb_count_rep[slots_dict[key]] = db_results_dict[key] / 100.\n",
    "\n",
    "        # Representation of DB query results (binary)\n",
    "        kb_binary_rep = np.zeros((num_slots + 1,)) + np.sum(db_results_dict['matching_all_constraints'] > 0.)\n",
    "        for key in db_results_dict.keys():\n",
    "            if key in slots_dict:\n",
    "                kb_binary_rep[slots_dict[key]] = np.sum(db_results_dict[key] > 0.)\n",
    "\n",
    "        state_representation = np.hstack(\n",
    "            [user_act_rep, user_inform_slots_rep, user_request_slots_rep, agent_act_rep, agent_inform_slots_rep,\n",
    "             agent_request_slots_rep, current_slots_rep, turn_rep, turn_onehot_rep, kb_binary_rep,\n",
    "             kb_count_rep]).flatten()\n",
    "\n",
    "        return state_representation"
   ]
  },
  {
   "cell_type": "code",
   "execution_count": 144,
   "metadata": {},
   "outputs": [
    {
     "name": "stdout",
     "output_type": "stream",
     "text": [
      "keys user requests :  {'intent': 'request', 'inform_slots': {'moviename': 'the witch', 'city': 'seattle'}, 'request_slots': {'genre': ''}, 'round': 0, 'speaker': 'User'}\n"
     ]
    }
   ],
   "source": [
    "x = get_state()"
   ]
  },
  {
   "cell_type": "code",
   "execution_count": 145,
   "metadata": {},
   "outputs": [
    {
     "data": {
      "text/plain": [
       "array([0.  , 1.  , 0.  , 0.  , 0.  , 0.  , 0.  , 0.  , 1.  , 0.  , 0.  ,\n",
       "       0.  , 0.  , 0.  , 0.  , 0.  , 0.  , 1.  , 0.  , 0.  , 0.  , 0.  ,\n",
       "       0.  , 0.  , 0.  , 0.  , 0.  , 0.  , 0.  , 0.  , 0.  , 0.  , 0.  ,\n",
       "       0.  , 0.  , 0.  , 0.  , 0.  , 0.  , 0.  , 1.  , 0.  , 0.  , 0.  ,\n",
       "       0.  , 0.  , 0.  , 0.  , 0.  , 0.  , 0.  , 0.  , 0.  , 0.  , 0.  ,\n",
       "       0.  , 0.  , 0.  , 0.  , 0.  , 1.  , 0.  , 0.  , 0.  , 0.  , 0.  ,\n",
       "       0.  , 0.  , 0.  , 0.  , 0.  , 0.  , 0.  , 0.  , 0.  , 0.  , 0.  ,\n",
       "       1.  , 0.  , 0.  , 0.  , 0.  , 0.  , 0.  , 0.  , 0.  , 0.  , 0.  ,\n",
       "       0.  , 0.  , 0.  , 0.  , 0.  , 0.  , 0.  , 0.  , 0.  , 0.  , 0.  ,\n",
       "       0.  , 1.  , 0.  , 0.  , 0.  , 0.  , 0.  , 0.  , 0.  , 0.  , 0.  ,\n",
       "       0.  , 0.  , 0.  , 0.  , 0.  , 0.  , 0.  , 0.  , 0.  , 0.  , 0.  ,\n",
       "       0.  , 1.  , 0.  , 0.  , 0.  , 0.  , 0.  , 0.  , 0.  , 0.  , 1.  ,\n",
       "       0.  , 0.  , 0.  , 0.  , 0.  , 0.  , 0.  , 0.  , 0.  , 0.  , 0.  ,\n",
       "       0.  , 0.  , 0.  , 0.  , 0.  , 0.  , 0.  , 0.  , 0.  , 0.  , 0.  ,\n",
       "       0.  , 0.  , 0.  , 0.  , 0.  , 0.  , 0.  , 0.  , 0.  , 0.  , 0.  ,\n",
       "       0.  , 0.  , 1.  , 1.  , 1.  , 1.  , 1.  , 1.  , 1.  , 1.  , 1.  ,\n",
       "       1.  , 1.  , 1.  , 1.  , 1.  , 1.  , 1.  , 1.  , 1.  , 1.  , 1.  ,\n",
       "       1.  , 1.  , 1.  , 1.  , 1.  , 1.  , 1.  , 1.  , 1.  , 0.06, 0.06,\n",
       "       3.03, 0.06, 0.06, 0.06, 0.06, 0.06, 0.06, 0.06, 0.06, 0.41, 0.06,\n",
       "       0.06, 0.06, 0.06, 0.06, 0.06, 0.06, 0.06, 0.06, 0.06, 0.06, 0.06,\n",
       "       0.06, 0.06, 0.06, 0.06])"
      ]
     },
     "execution_count": 145,
     "metadata": {},
     "output_type": "execute_result"
    }
   ],
   "source": [
    "x"
   ]
  },
  {
   "cell_type": "code",
   "execution_count": null,
   "metadata": {},
   "outputs": [],
   "source": []
  }
 ],
 "metadata": {
  "kernelspec": {
   "display_name": "TensorFlow-GPU",
   "language": "python",
   "name": "tf-gpu"
  },
  "language_info": {
   "codemirror_mode": {
    "name": "ipython",
    "version": 3
   },
   "file_extension": ".py",
   "mimetype": "text/x-python",
   "name": "python",
   "nbconvert_exporter": "python",
   "pygments_lexer": "ipython3",
   "version": "3.7.9"
  }
 },
 "nbformat": 4,
 "nbformat_minor": 4
}
